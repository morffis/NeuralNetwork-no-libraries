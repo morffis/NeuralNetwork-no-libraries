{
 "cells": [
  {
   "cell_type": "markdown",
   "metadata": {},
   "source": [
    "# This is the recreation of the first problem of A Neural Network in 11 lines of code\n",
    "\n",
    "https://iamtrask.github.io/2015/07/12/basic-python-network/"
   ]
  },
  {
   "cell_type": "code",
   "execution_count": 1,
   "metadata": {},
   "outputs": [],
   "source": [
    "import numpy as np #array handling\n",
    "import matplotlib.pyplot as plt #graphs"
   ]
  },
  {
   "cell_type": "code",
   "execution_count": 2,
   "metadata": {},
   "outputs": [],
   "source": [
    "#The activation function and its derivative form\n",
    "def sigmoid(x):\n",
    "    return 1/(1+np.exp(-x))\n",
    "\n",
    "def sigmoid_d(x):\n",
    "    return sigmoid(x)*(1-sigmoid(x))"
   ]
  },
  {
   "cell_type": "code",
   "execution_count": 3,
   "metadata": {},
   "outputs": [
    {
     "data": {
      "image/png": "[encoded data removed]",
      "text/plain": [
       "<Figure size 432x288 with 1 Axes>"
      ]
     },
     "metadata": {
      "needs_background": "light"
     },
     "output_type": "display_data"
    }
   ],
   "source": [
    "#Testing our activationg function and its derivative\n",
    "\n",
    "#Calculation\n",
    "graph_x = np.arange(-6,6.1,0.1)\n",
    "sigmoid_graph = sigmoid(graph_x)\n",
    "sigmoid_d_graph = sigmoid_d(graph_x)\n",
    "\n",
    "#Graph\n",
    "fig, ax = plt.subplots()\n",
    "ax.plot(graph_x, sigmoid_graph, color='r', label='Sigmoid')\n",
    "ax.plot(graph_x, sigmoid_d_graph, color='b', label='Derivative of Sigmoid')\n",
    "legend = ax.legend(loc='upper left')\n",
    "plt.show()"
   ]
  },
  {
   "cell_type": "code",
   "execution_count": 4,
   "metadata": {},
   "outputs": [],
   "source": [
    "#The dataset\n",
    "#Instead of following along the tutorial, we're putting both the inputs and the outputs in the same array\n",
    "data = np.array([\n",
    "        [0,0,1,0],\n",
    "        [0,1,1,0],\n",
    "        [1,0,1,1],\n",
    "        [1,1,1,1]\n",
    "])"
   ]
  },
  {
   "cell_type": "code",
   "execution_count": 5,
   "metadata": {},
   "outputs": [],
   "source": [
    "#Function to organize it in inputs/outputs\n",
    "#Assuming the Outputs are in the last columns\n",
    "\n",
    "def data_to_in_out_put(data, output_n_cols=1):\n",
    "    inputs = data[:,:-output_n_cols]\n",
    "    output = data[:,[-output_n_cols]]\n",
    "    return inputs, output"
   ]
  },
  {
   "cell_type": "code",
   "execution_count": 6,
   "metadata": {},
   "outputs": [
    {
     "name": "stdout",
     "output_type": "stream",
     "text": [
      "Inputs:\n",
      "[[0 0 1]\n",
      " [0 1 1]\n",
      " [1 0 1]\n",
      " [1 1 1]]\n",
      "Output:\n",
      "[[0]\n",
      " [0]\n",
      " [1]\n",
      " [1]]\n",
      "x shape: (4, 3) y shape: (4, 1)\n"
     ]
    }
   ],
   "source": [
    "x, y = data_to_in_out_put(data)\n",
    "print('Inputs:')\n",
    "print(x)\n",
    "print('Output:')\n",
    "print(y)\n",
    "print('x shape: {} y shape: {}'.format(x.shape,y.shape))"
   ]
  },
  {
   "cell_type": "code",
   "execution_count": 7,
   "metadata": {},
   "outputs": [
    {
     "name": "stdout",
     "output_type": "stream",
     "text": [
      "Number of inputs: 3 Number of outputs: 1 Number of records 4\n"
     ]
    }
   ],
   "source": [
    "n_inputs = x[0].shape[0]\n",
    "n_outputs = y[0].shape[0] \n",
    "n_records = len(x)\n",
    "    \n",
    "print('Number of inputs: {} Number of outputs: {} Number of records {}'.format(n_inputs,n_outputs,n_records))"
   ]
  },
  {
   "cell_type": "code",
   "execution_count": 8,
   "metadata": {},
   "outputs": [],
   "source": [
    "# seed random numbers to make calculation\n",
    "# deterministic (just a good practice)\n",
    "np.random.seed(1)"
   ]
  },
  {
   "cell_type": "code",
   "execution_count": 9,
   "metadata": {},
   "outputs": [
    {
     "name": "stdout",
     "output_type": "stream",
     "text": [
      "[[-0.16595599]\n",
      " [ 0.44064899]\n",
      " [-0.99977125]]\n"
     ]
    }
   ],
   "source": [
    "#Weights layer\n",
    "#Initialize it randomly\n",
    "'''\n",
    "np.random.random generates a number between 0 and 1. Multiplying by 2 then subtracting by 1\n",
    "forces the random weight generation vary between -1 and 1\n",
    "'''\n",
    "weights = 2*np.random.random((n_inputs,n_outputs)) - 1\n",
    "print(weights)"
   ]
  },
  {
   "cell_type": "code",
   "execution_count": 10,
   "metadata": {},
   "outputs": [
    {
     "name": "stdout",
     "output_type": "stream",
     "text": [
      "Prediction at training step 0\n",
      "0.26899\n",
      "0.36375\n",
      "0.23763\n",
      "0.32628\n",
      "Prediction at training step 100\n",
      "0.06871\n",
      "0.05027\n",
      "0.95795\n",
      "0.94234\n",
      "Prediction at training step 200\n",
      "0.03582\n",
      "0.02486\n",
      "0.97910\n",
      "0.96984\n",
      "Prediction at training step 300\n",
      "0.02410\n",
      "0.01646\n",
      "0.98614\n",
      "0.97967\n",
      "Prediction at training step 400\n",
      "0.01813\n",
      "0.01228\n",
      "0.98964\n",
      "0.98470\n",
      "Prediction at training step 500\n",
      "0.01452\n",
      "0.00980\n",
      "0.99173\n",
      "0.98774\n",
      "Prediction at training step 600\n",
      "0.01210\n",
      "0.00814\n",
      "0.99312\n",
      "0.98977\n",
      "Prediction at training step 700\n",
      "0.01037\n",
      "0.00697\n",
      "0.99411\n",
      "0.99123\n",
      "Prediction at training step 800\n",
      "0.00908\n",
      "0.00609\n",
      "0.99485\n",
      "0.99233\n",
      "Prediction at training step 900\n",
      "0.00807\n",
      "0.00540\n",
      "0.99543\n",
      "0.99318\n",
      "Prediction at training step 1000\n",
      "0.00726\n",
      "0.00486\n",
      "0.99589\n",
      "0.99386\n"
     ]
    }
   ],
   "source": [
    "training_steps = 1001\n",
    "\n",
    "for i in range(training_steps):\n",
    "    \n",
    "    #get the inputs as layer0(l0)\n",
    "    l0 = x\n",
    "    \n",
    "    #make a prediction\n",
    "    #This is our activation function of the inputs times the weights\n",
    "    prediction = sigmoid(np.dot(l0,weights))\n",
    "    \n",
    "    #calculate the error\n",
    "    error = y - prediction\n",
    "    \n",
    "    #calculate the adjust factor\n",
    "    #Error * the derivative of our prediction\n",
    "    delta = error * sigmoid_d(prediction)\n",
    "    \n",
    "    #print(np.dot(l0.T,delta).shape)\n",
    "    \n",
    "    #adjust the weights and restart\n",
    "    weights += np.dot(l0.T,delta)\n",
    "    \n",
    "    if(i % 100 == 0):\n",
    "        print('Prediction at training step {}'.format(i))\n",
    "        for pred in range(len(prediction)):            \n",
    "            print( \"{:.5f}\".format(prediction[pred,0]))\n",
    "        "
   ]
  }
 ],
 "metadata": {
  "kernelspec": {
   "display_name": "Python 3",
   "language": "python",
   "name": "python3"
  },
  "language_info": {
   "codemirror_mode": {
    "name": "ipython",
    "version": 3
   },
   "file_extension": ".py",
   "mimetype": "text/x-python",
   "name": "python",
   "nbconvert_exporter": "python",
   "pygments_lexer": "ipython3",
   "version": "3.7.4"
  }
 },
 "nbformat": 4,
 "nbformat_minor": 2
}
